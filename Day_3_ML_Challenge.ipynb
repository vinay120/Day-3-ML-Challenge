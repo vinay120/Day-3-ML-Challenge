{
 "cells": [
  {
   "cell_type": "markdown",
   "metadata": {},
   "source": [
    "# Day 3 ML Challenge - 9/24/2019"
   ]
  },
  {
   "cell_type": "markdown",
   "metadata": {},
   "source": [
    "### [Q] Create a array ranging from negative 5 to positive 5. Create a meshgrid(dx, dy) for that 1-D Array. Then apply Product Rule of Sin Function."
   ]
  },
  {
   "cell_type": "code",
   "execution_count": null,
   "metadata": {},
   "outputs": [],
   "source": [
    "import numpy as np\n",
    "import metplotlib.pyplot as plt\n",
    "\n",
    "points = #create array here\n",
    "\n",
    "dx, dy = #create meshgrid here\n",
    "\n",
    "z = #apply product rule of sin fucntion here\n",
    "\n",
    "print(z)\n",
    "\n",
    "# Below code is for your knowledge\n",
    "# When you successfully give 'z' values, plotting it on graph will show something like this below:\n",
    "# Remove comments from below code and execute and you will see wonderful Sinusoidal wave\n",
    "# plt.plot(z)\n",
    "# plt.title('Plot for sin(dx) + sin(dy)')\n",
    "# plt.show()"
   ]
  },
  {
   "cell_type": "markdown",
   "metadata": {},
   "source": [
    "### [Q] Convert this dictionary into a DataFrame"
   ]
  },
  {
   "cell_type": "code",
   "execution_count": null,
   "metadata": {},
   "outputs": [],
   "source": [
    "dict = {\"country\": [\"Brazil\", \"Russia\", \"India\", \"China\", \"South Africa\"],\n",
    "       \"capital\": [\"Brasilia\", \"Moscow\", \"New Dehli\", \"Beijing\", \"Pretoria\"],\n",
    "       \"area\": [8.516, 17.10, 3.286, 9.597, 1.221],\n",
    "       \"population\": [200.4, 143.5, 1252, 1357, 52.98] }\n",
    "#import\n",
    "brics = #Your code here\n",
    "print(brics)"
   ]
  },
  {
   "cell_type": "markdown",
   "metadata": {},
   "source": [
    "### [Q] For the same variable brics from above qn, the indexes show from 0 to 4. Override the indexes to look like BR for Brazil, RU for Russia, IN for India, CH for China and SA for South Africa"
   ]
  },
  {
   "cell_type": "code",
   "execution_count": null,
   "metadata": {},
   "outputs": [],
   "source": [
    "# Set the index for brics. Code here\n",
    "\n",
    "print(brics)"
   ]
  },
  {
   "cell_type": "markdown",
   "metadata": {},
   "source": [
    "### [Q] Given a Series, use it to first convert it to dictionary. Now use the countries list to override the index for the dictionary. Once that is done, convert the dictionary back to Series. Print the summation of converted series and overrided dictionary."
   ]
  },
  {
   "cell_type": "code",
   "execution_count": 17,
   "metadata": {},
   "outputs": [],
   "source": [
    "import pandas as pf\n",
    "from pandas import Series, DataFrame\n",
    "\n",
    "ww2_case = Series([870000, 430000, 3000000, 210000, 400000], index=['USSR', 'Germany', 'China', 'Japan', 'USA'])\n",
    "\n",
    "ww2_dict = # Your code here to convert this series to dictionary\n",
    "\n",
    "countries = ['Argentina', 'USSR', 'Germany', 'China', 'Japan', 'USA']\n",
    "\n",
    "obj = # Your code here to use the countries list as index for ww2_dict\n",
    "\n",
    "ww2_series = # Your code here to convert it back to Series\n",
    "\n",
    "print(ww2_series + obj)\n"
   ]
  },
  {
   "cell_type": "markdown",
   "metadata": {},
   "source": [
    "### [Q] Clean data and update the CSV file. Replace all column values which contain ‘?’ and n.a with NaN. NOTE:The CSV file is provided in Github. Download to your local machine."
   ]
  },
  {
   "cell_type": "code",
   "execution_count": null,
   "metadata": {},
   "outputs": [],
   "source": [
    "df = # Import and Replace while you import\n",
    "print(df)"
   ]
  },
  {
   "cell_type": "markdown",
   "metadata": {},
   "source": [
    "### [Q] Use the same Automobile CSV file and print most expensive car’s company name and price."
   ]
  },
  {
   "cell_type": "code",
   "execution_count": null,
   "metadata": {},
   "outputs": [],
   "source": [
    "import pandas as pd\n",
    "\n",
    "df = # import the csv file here\n",
    "\n",
    "df = # find max and what you want to display\n",
    "\n",
    "print(df)"
   ]
  },
  {
   "cell_type": "markdown",
   "metadata": {},
   "source": [
    "### [Q] Use the same Automobile CSV file and Count total cars per company"
   ]
  },
  {
   "cell_type": "code",
   "execution_count": 19,
   "metadata": {},
   "outputs": [],
   "source": [
    "import pandas as pd\n",
    "\n",
    "df = # import the csv file here\n",
    "\n",
    "# your code here to find the count of total cars per company(make)"
   ]
  },
  {
   "cell_type": "markdown",
   "metadata": {},
   "source": [
    "### [Q] Concatenate two data frames using the following conditions. Create two data frames using the following two Dicts, Concatenate those two data frames and create a key for each data frame."
   ]
  },
  {
   "cell_type": "code",
   "execution_count": null,
   "metadata": {},
   "outputs": [],
   "source": [
    "import pandas as pd\n",
    "\n",
    "GermanCars = {'Company': ['Ford', 'Mercedes', 'BMV', 'Audi'], 'Price': [23845, 171995, 135925 , 71400]}\n",
    "carsDf1 = # create dataframe from dict here\n",
    "\n",
    "japaneseCars = {'Company': ['Toyota', 'Honda', 'Nissan', 'Mitsubishi '], 'Price': [29995, 23600, 61500 , 58900]}\n",
    "carsDf2 = # create dataframe from dict here\n",
    "\n",
    "carsDf = # Write your code to concatenate here\n",
    "\n",
    "carsDf"
   ]
  }
 ],
 "metadata": {
  "kernelspec": {
   "display_name": "Python 3",
   "language": "python",
   "name": "python3"
  },
  "language_info": {
   "codemirror_mode": {
    "name": "ipython",
    "version": 3
   },
   "file_extension": ".py",
   "mimetype": "text/x-python",
   "name": "python",
   "nbconvert_exporter": "python",
   "pygments_lexer": "ipython3",
   "version": "3.6.4"
  }
 },
 "nbformat": 4,
 "nbformat_minor": 2
}
